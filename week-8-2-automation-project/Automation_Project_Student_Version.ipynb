{
  "nbformat": 4,
  "nbformat_minor": 0,
  "metadata": {
    "colab": {
      "name": "Automation Project - Student Version",
      "provenance": [],
      "collapsed_sections": []
    },
    "kernelspec": {
      "name": "python3",
      "display_name": "Python 3"
    },
    "accelerator": "GPU"
  },
  "cells": [
    {
      "cell_type": "markdown",
      "metadata": {
        "id": "t-zS-N3YprMF"
      },
      "source": [
        "<img src=\"http://saffarizadeh.com/Logo.png\" width=\"300px\"/>\n",
        "\n",
        "# *INSY 4054: Emerging Technologies*\n",
        "\n",
        "# **Automation Project**\n",
        "\n",
        "Instructor: Dr. Kambiz Saffarizadeh\n",
        "\n",
        "---"
      ]
    },
    {
      "cell_type": "markdown",
      "metadata": {
        "id": "-_OJ05fooC39"
      },
      "source": [
        "## Please read carefully\n",
        "\n",
        "In this project, we want to learn how to automate the process of analyzing the user reviews on a specific webpage. If we were in charge of continuously monitoring some specific products of our competitors, this automation can save us a lot of time.\n",
        "\n",
        "The target webpage is http://saffarizadeh.com/ET/reviews.html.\n",
        "\n",
        "Please open and view the webpage.\n",
        "\n",
        "In next steps, after importing all needed libraries, we first download the webpage. Then using BeautifulSoup, we extract titles, reviews, and ratings from the webpage. We then create a table to keep these data. Next, we pass the reviews to a sentiment analysis model and store the sentiments in a new column in the table. Finally, we create a few reports based on the sentiment analysis and store all tables in an Excel file."
      ]
    },
    {
      "cell_type": "markdown",
      "metadata": {
        "id": "DebydpkhivsD"
      },
      "source": [
        "## Insert all needed libraries here"
      ]
    },
    {
      "cell_type": "code",
      "metadata": {
        "id": "ZyYaQUQ7taDc"
      },
      "source": [
        "import requests\r\n",
        "import pandas as pd\r\n",
        "from bs4 import BeautifulSoup\r\n",
        "from lxml import html"
      ],
      "execution_count": 5,
      "outputs": []
    },
    {
      "cell_type": "markdown",
      "metadata": {
        "id": "Ly-_r2gyi1DX"
      },
      "source": [
        "## Crawl the website\n",
        "\n",
        "Use the `get` method to download the following webpage:\n",
        "\n",
        "`http://saffarizadeh.com/ET/reviews.html`"
      ]
    },
    {
      "cell_type": "code",
      "metadata": {
        "id": "RnnMdWVEtbEX"
      },
      "source": [
        "url = 'http://saffarizadeh.com/ET/reviews.html'\r\n",
        "response = requests.get(url)"
      ],
      "execution_count": 6,
      "outputs": []
    },
    {
      "cell_type": "markdown",
      "metadata": {
        "id": "A2uOYqNXi956"
      },
      "source": [
        "## Make a soup"
      ]
    },
    {
      "cell_type": "markdown",
      "metadata": {
        "id": "bCc1fTeRqMZ0"
      },
      "source": [
        "Use Beautiful Soup to create/make an HTML soup!"
      ]
    },
    {
      "cell_type": "code",
      "metadata": {
        "id": "Y3gXGbqdtcef"
      },
      "source": [
        "soup = BeautifulSoup(response.content, 'lxml')"
      ],
      "execution_count": 7,
      "outputs": []
    },
    {
      "cell_type": "markdown",
      "metadata": {
        "id": "ayFk114YjENT"
      },
      "source": [
        "## Using the soup, extract titles, reviews, and ratings\n",
        "\n",
        "Note: do this in 3 separate steps. These steps are extremely similar. So after writing the first one, the next ones should be very easy.\n",
        "\n",
        "Note: use `attrs` to find all relevant elements for each step.\n",
        "\n",
        "Note: to figure out which attribute(s) and attribute values you need to use, open http://saffarizadeh.com/ET/reviews.html in Chrome or FireFox, right click on the element you want to extract, and select `Inspect` or `Inspect Element`. This way you can see the HTML code for this specific element. Using slides #7 and #8 of Week 8-1, you should be able to identify the attribute name and attribute values needed."
      ]
    },
    {
      "cell_type": "markdown",
      "metadata": {
        "id": "vnA0TXGKjtmu"
      },
      "source": [
        "Titles: Store all review titles in a list named `list1`"
      ]
    },
    {
      "cell_type": "code",
      "metadata": {
        "id": "_i_iwsjWtdxR"
      },
      "source": [
        "reviews = soup.find_all('div', attrs={'class':'reviewTitle'});\n",
        "list1 = [];\n",
        "for review in reviews:\n",
        "  list1.append(review.text);"
      ],
      "execution_count": 36,
      "outputs": []
    },
    {
      "cell_type": "code",
      "metadata": {
        "colab": {
          "base_uri": "https://localhost:8080/"
        },
        "id": "fB-bR-hfs_Ct",
        "outputId": "ce5d9322-fd81-4db1-c180-a34e654c73e4"
      },
      "source": [
        "len(list1)"
      ],
      "execution_count": 113,
      "outputs": [
        {
          "output_type": "execute_result",
          "data": {
            "text/plain": [
              "10"
            ]
          },
          "metadata": {
            "tags": []
          },
          "execution_count": 113
        }
      ]
    },
    {
      "cell_type": "markdown",
      "metadata": {
        "id": "9qkyv7jyjwxw"
      },
      "source": [
        "Reviews: Store all review body texts in a list named `list2`"
      ]
    },
    {
      "cell_type": "code",
      "metadata": {
        "id": "73UWfSPYtgie"
      },
      "source": [
        "body_content = soup.find_all('div', attrs={'class':'reviewBody'});\n",
        "list2 = [];\n",
        "for content in body_content:\n",
        "  list2.append(content.text);"
      ],
      "execution_count": 119,
      "outputs": []
    },
    {
      "cell_type": "code",
      "metadata": {
        "colab": {
          "base_uri": "https://localhost:8080/"
        },
        "id": "Px9EQ1PftCHD",
        "outputId": "542ccd53-c2d7-4bc8-ca5a-a8dfdbde5024"
      },
      "source": [
        "len(list2)"
      ],
      "execution_count": 121,
      "outputs": [
        {
          "output_type": "execute_result",
          "data": {
            "text/plain": [
              "10"
            ]
          },
          "metadata": {
            "tags": []
          },
          "execution_count": 121
        }
      ]
    },
    {
      "cell_type": "markdown",
      "metadata": {
        "id": "hOkUadipj0ZM"
      },
      "source": [
        "Ratings: Store all review ratings in a list named `list3`\n",
        "\n",
        "Note: For this step you have two ways to extract the ratings. Both ways are fine but using the `rating` attribute is easier.\n",
        "\n",
        "Note: the extracted ratings will be in `str` (text) format; convert them to `int` or `float` before storing them in the list\n",
        "\n",
        "Note: if you could not convert the ratings into numeric values, you can continue with string values and come back at the end of the project to see whether you can fix the problem. You can do the next part of this project without this type conversion."
      ]
    },
    {
      "cell_type": "code",
      "metadata": {
        "id": "L-c_41y9tiTA"
      },
      "source": [
        "ratings = soup.find_all('div', attrs={'class':'rating'});\n",
        "list3 = [];\n",
        "for rating in ratings:\n",
        "  list3.append(int(rating.get('rating')));\n"
      ],
      "execution_count": 77,
      "outputs": []
    },
    {
      "cell_type": "code",
      "metadata": {
        "colab": {
          "base_uri": "https://localhost:8080/"
        },
        "id": "3M2_2IPHuVZd",
        "outputId": "e276829a-4253-4cbc-d9fc-73557ea8d255"
      },
      "source": [
        "len(list3)"
      ],
      "execution_count": 115,
      "outputs": [
        {
          "output_type": "execute_result",
          "data": {
            "text/plain": [
              "10"
            ]
          },
          "metadata": {
            "tags": []
          },
          "execution_count": 115
        }
      ]
    },
    {
      "cell_type": "markdown",
      "metadata": {
        "id": "6gCpuLhTkIiw"
      },
      "source": [
        "## Create a `pandas` data frame and store the three lists that you created for titles, body texts, and ratings\n",
        "\n",
        "Hint: you can first create a dictionary with `title`, `body`, and `rating` as keys and list1, list2, and list 3 and values. Then you can create a data frame from this dictionary."
      ]
    },
    {
      "cell_type": "code",
      "metadata": {
        "id": "7LdLqxBKtk2a"
      },
      "source": [
        "df = pd.DataFrame({'title': list1, 'body': list2, 'rating': list3})"
      ],
      "execution_count": 122,
      "outputs": []
    },
    {
      "cell_type": "markdown",
      "metadata": {
        "id": "BlzHBSWtlHFh"
      },
      "source": [
        "Show the data frame:"
      ]
    },
    {
      "cell_type": "code",
      "metadata": {
        "id": "Hsf0fEsGpvKZ",
        "colab": {
          "base_uri": "https://localhost:8080/",
          "height": 363
        },
        "outputId": "cab54004-6d5c-4f88-cee9-e4c88699165c"
      },
      "source": [
        "df"
      ],
      "execution_count": 123,
      "outputs": [
        {
          "output_type": "execute_result",
          "data": {
            "text/html": [
              "<div>\n",
              "<style scoped>\n",
              "    .dataframe tbody tr th:only-of-type {\n",
              "        vertical-align: middle;\n",
              "    }\n",
              "\n",
              "    .dataframe tbody tr th {\n",
              "        vertical-align: top;\n",
              "    }\n",
              "\n",
              "    .dataframe thead th {\n",
              "        text-align: right;\n",
              "    }\n",
              "</style>\n",
              "<table border=\"1\" class=\"dataframe\">\n",
              "  <thead>\n",
              "    <tr style=\"text-align: right;\">\n",
              "      <th></th>\n",
              "      <th>title</th>\n",
              "      <th>body</th>\n",
              "      <th>rating</th>\n",
              "    </tr>\n",
              "  </thead>\n",
              "  <tbody>\n",
              "    <tr>\n",
              "      <th>0</th>\n",
              "      <td>Yeaaa USB C!!!!! But the dongle? Why? Why not ...</td>\n",
              "      <td>WHY Logitech! Why? Lets finally go FULL USB C ...</td>\n",
              "      <td>3</td>\n",
              "    </tr>\n",
              "    <tr>\n",
              "      <th>1</th>\n",
              "      <td>Logitech - how many tries do you need to get i...</td>\n",
              "      <td>The scroll wheel is awesome. The fit and finis...</td>\n",
              "      <td>3</td>\n",
              "    </tr>\n",
              "    <tr>\n",
              "      <th>2</th>\n",
              "      <td>Worthy Upgrade, Too Bad It’s Not In White</td>\n",
              "      <td>Purchased this product after accidentally purc...</td>\n",
              "      <td>4</td>\n",
              "    </tr>\n",
              "    <tr>\n",
              "      <th>3</th>\n",
              "      <td>Terrible scroll wheel issues</td>\n",
              "      <td>I have the former MX Master 2S and upgraded to...</td>\n",
              "      <td>1</td>\n",
              "    </tr>\n",
              "    <tr>\n",
              "      <th>4</th>\n",
              "      <td>Logitech made a great mouse even better</td>\n",
              "      <td>The MX Master 2s was a fantastic mouse, but I ...</td>\n",
              "      <td>5</td>\n",
              "    </tr>\n",
              "    <tr>\n",
              "      <th>5</th>\n",
              "      <td>Unconfortable downgrade from the Performance MX 1</td>\n",
              "      <td>Cons in comparison to the original Performance...</td>\n",
              "      <td>2</td>\n",
              "    </tr>\n",
              "    <tr>\n",
              "      <th>6</th>\n",
              "      <td>Not for gamers</td>\n",
              "      <td>Many Youtubers recommend this mouse as their a...</td>\n",
              "      <td>3</td>\n",
              "    </tr>\n",
              "    <tr>\n",
              "      <th>7</th>\n",
              "      <td>More compatible with Mac than I expected</td>\n",
              "      <td>If you work with a Mac and are wondering if th...</td>\n",
              "      <td>5</td>\n",
              "    </tr>\n",
              "    <tr>\n",
              "      <th>8</th>\n",
              "      <td>Improvement over the last gen. Worth the upgrade</td>\n",
              "      <td>I have two of the previous generation and this...</td>\n",
              "      <td>5</td>\n",
              "    </tr>\n",
              "    <tr>\n",
              "      <th>9</th>\n",
              "      <td>The best scroll wheel ever.</td>\n",
              "      <td>The best Mx Master yet. And this time with rea...</td>\n",
              "      <td>5</td>\n",
              "    </tr>\n",
              "  </tbody>\n",
              "</table>\n",
              "</div>"
            ],
            "text/plain": [
              "                                               title  ... rating\n",
              "0  Yeaaa USB C!!!!! But the dongle? Why? Why not ...  ...      3\n",
              "1  Logitech - how many tries do you need to get i...  ...      3\n",
              "2          Worthy Upgrade, Too Bad It’s Not In White  ...      4\n",
              "3                       Terrible scroll wheel issues  ...      1\n",
              "4            Logitech made a great mouse even better  ...      5\n",
              "5  Unconfortable downgrade from the Performance MX 1  ...      2\n",
              "6                                     Not for gamers  ...      3\n",
              "7           More compatible with Mac than I expected  ...      5\n",
              "8   Improvement over the last gen. Worth the upgrade  ...      5\n",
              "9                        The best scroll wheel ever.  ...      5\n",
              "\n",
              "[10 rows x 3 columns]"
            ]
          },
          "metadata": {
            "tags": []
          },
          "execution_count": 123
        }
      ]
    },
    {
      "cell_type": "code",
      "metadata": {
        "cellView": "form",
        "id": "OEjQ5Xms_fpI"
      },
      "source": [
        "#@title Run this cell to train a sentiment analysis model. This model directly comes from Activity 4 in Week 5-1 slides. Running this cell takes 1-2 minutes.\n",
        "%%capture\n",
        "import tensorflow as tf\n",
        "import tensorflow_hub as hub\n",
        "import tensorflow_datasets as tfds\n",
        "\n",
        "train_data, validation_data, test_data = tfds.load(name=\"imdb_reviews\", split=('train[:60%]', 'train[60%:]', 'test'), as_supervised=True)\n",
        "model = tf.keras.models.Sequential([\n",
        "    hub.KerasLayer(\"https://tfhub.dev/google/nnlm-en-dim50/2\", input_shape=[], dtype=tf.string, trainable=True),\n",
        "    tf.keras.layers.Dense(16, activation='relu'),\n",
        "    tf.keras.layers.Dense(1, activation='sigmoid')\n",
        "])\n",
        "model.compile(optimizer='adam', loss=tf.keras.losses.BinaryCrossentropy(from_logits=True), metrics=['accuracy'])\n",
        "model.fit(train_data.shuffle(1).batch(512), epochs=10, verbose=1)"
      ],
      "execution_count": 84,
      "outputs": []
    },
    {
      "cell_type": "markdown",
      "metadata": {
        "id": "Np6e9fbCxZWe"
      },
      "source": [
        "The sentiment analysis model we use is trained on movie reviews. So, it might not be the best fit for the specific context of our automation (product reviews). But first let's use the model and then judge the results."
      ]
    },
    {
      "cell_type": "markdown",
      "metadata": {
        "id": "h0BN_VuHl1NC"
      },
      "source": [
        "After running the previous cell, pass the column containing the reviews to the model. To do so, run the following code after replacing `column_placeholder` with the actual column from the data frame:\n",
        "\n",
        "`sentiment = model(column_placeholder).numpy()`"
      ]
    },
    {
      "cell_type": "code",
      "metadata": {
        "id": "WlrntMp-tqvT"
      },
      "source": [
        "sentiment = model(df[\"body\"]).numpy()"
      ],
      "execution_count": 126,
      "outputs": []
    },
    {
      "cell_type": "markdown",
      "metadata": {
        "id": "VQ-puD7tmoVL"
      },
      "source": [
        "Store `sentiment` as a new column in the data frame."
      ]
    },
    {
      "cell_type": "code",
      "metadata": {
        "id": "UQFmK1NUtsZ_",
        "colab": {
          "base_uri": "https://localhost:8080/",
          "height": 347
        },
        "outputId": "c05838d7-9620-451b-f6fe-55f19a0f6435"
      },
      "source": [
        "df.append(sentiment);"
      ],
      "execution_count": 127,
      "outputs": [
        {
          "output_type": "error",
          "ename": "TypeError",
          "evalue": "ignored",
          "traceback": [
            "\u001b[0;31m---------------------------------------------------------------------------\u001b[0m",
            "\u001b[0;31mTypeError\u001b[0m                                 Traceback (most recent call last)",
            "\u001b[0;32m<ipython-input-127-704a754f774d>\u001b[0m in \u001b[0;36m<module>\u001b[0;34m()\u001b[0m\n\u001b[0;32m----> 1\u001b[0;31m \u001b[0mdf\u001b[0m\u001b[0;34m.\u001b[0m\u001b[0mappend\u001b[0m\u001b[0;34m(\u001b[0m\u001b[0msentiment\u001b[0m\u001b[0;34m)\u001b[0m\u001b[0;34m;\u001b[0m\u001b[0;34m\u001b[0m\u001b[0;34m\u001b[0m\u001b[0m\n\u001b[0m",
            "\u001b[0;32m/usr/local/lib/python3.7/dist-packages/pandas/core/frame.py\u001b[0m in \u001b[0;36mappend\u001b[0;34m(self, other, ignore_index, verify_integrity, sort)\u001b[0m\n\u001b[1;32m   7749\u001b[0m             \u001b[0mignore_index\u001b[0m\u001b[0;34m=\u001b[0m\u001b[0mignore_index\u001b[0m\u001b[0;34m,\u001b[0m\u001b[0;34m\u001b[0m\u001b[0;34m\u001b[0m\u001b[0m\n\u001b[1;32m   7750\u001b[0m             \u001b[0mverify_integrity\u001b[0m\u001b[0;34m=\u001b[0m\u001b[0mverify_integrity\u001b[0m\u001b[0;34m,\u001b[0m\u001b[0;34m\u001b[0m\u001b[0;34m\u001b[0m\u001b[0m\n\u001b[0;32m-> 7751\u001b[0;31m             \u001b[0msort\u001b[0m\u001b[0;34m=\u001b[0m\u001b[0msort\u001b[0m\u001b[0;34m,\u001b[0m\u001b[0;34m\u001b[0m\u001b[0;34m\u001b[0m\u001b[0m\n\u001b[0m\u001b[1;32m   7752\u001b[0m         )\n\u001b[1;32m   7753\u001b[0m \u001b[0;34m\u001b[0m\u001b[0m\n",
            "\u001b[0;32m/usr/local/lib/python3.7/dist-packages/pandas/core/reshape/concat.py\u001b[0m in \u001b[0;36mconcat\u001b[0;34m(objs, axis, join, ignore_index, keys, levels, names, verify_integrity, sort, copy)\u001b[0m\n\u001b[1;32m    282\u001b[0m         \u001b[0mverify_integrity\u001b[0m\u001b[0;34m=\u001b[0m\u001b[0mverify_integrity\u001b[0m\u001b[0;34m,\u001b[0m\u001b[0;34m\u001b[0m\u001b[0;34m\u001b[0m\u001b[0m\n\u001b[1;32m    283\u001b[0m         \u001b[0mcopy\u001b[0m\u001b[0;34m=\u001b[0m\u001b[0mcopy\u001b[0m\u001b[0;34m,\u001b[0m\u001b[0;34m\u001b[0m\u001b[0;34m\u001b[0m\u001b[0m\n\u001b[0;32m--> 284\u001b[0;31m         \u001b[0msort\u001b[0m\u001b[0;34m=\u001b[0m\u001b[0msort\u001b[0m\u001b[0;34m,\u001b[0m\u001b[0;34m\u001b[0m\u001b[0;34m\u001b[0m\u001b[0m\n\u001b[0m\u001b[1;32m    285\u001b[0m     )\n\u001b[1;32m    286\u001b[0m \u001b[0;34m\u001b[0m\u001b[0m\n",
            "\u001b[0;32m/usr/local/lib/python3.7/dist-packages/pandas/core/reshape/concat.py\u001b[0m in \u001b[0;36m__init__\u001b[0;34m(self, objs, axis, join, keys, levels, names, ignore_index, verify_integrity, copy, sort)\u001b[0m\n\u001b[1;32m    357\u001b[0m                     \u001b[0;34m\"only Series and DataFrame objs are valid\"\u001b[0m\u001b[0;34m\u001b[0m\u001b[0;34m\u001b[0m\u001b[0m\n\u001b[1;32m    358\u001b[0m                 )\n\u001b[0;32m--> 359\u001b[0;31m                 \u001b[0;32mraise\u001b[0m \u001b[0mTypeError\u001b[0m\u001b[0;34m(\u001b[0m\u001b[0mmsg\u001b[0m\u001b[0;34m)\u001b[0m\u001b[0;34m\u001b[0m\u001b[0;34m\u001b[0m\u001b[0m\n\u001b[0m\u001b[1;32m    360\u001b[0m \u001b[0;34m\u001b[0m\u001b[0m\n\u001b[1;32m    361\u001b[0m             \u001b[0;31m# consolidate\u001b[0m\u001b[0;34m\u001b[0m\u001b[0;34m\u001b[0m\u001b[0;34m\u001b[0m\u001b[0m\n",
            "\u001b[0;31mTypeError\u001b[0m: cannot concatenate object of type '<class 'numpy.ndarray'>'; only Series and DataFrame objs are valid"
          ]
        }
      ]
    },
    {
      "cell_type": "markdown",
      "metadata": {
        "id": "DlDHxRqumvrA"
      },
      "source": [
        "Show the data frame:"
      ]
    },
    {
      "cell_type": "code",
      "metadata": {
        "id": "QBD3u8jJtviD"
      },
      "source": [
        "df"
      ],
      "execution_count": null,
      "outputs": []
    },
    {
      "cell_type": "markdown",
      "metadata": {
        "id": "FlG8L2HvmxzH"
      },
      "source": [
        "Select the rows with sentiment values above average."
      ]
    },
    {
      "cell_type": "code",
      "metadata": {
        "id": "XgCYZa2ctwA_"
      },
      "source": [
        ""
      ],
      "execution_count": null,
      "outputs": []
    },
    {
      "cell_type": "markdown",
      "metadata": {
        "id": "arF5iPe4m6sD"
      },
      "source": [
        "Select the rows with sentiment values below average."
      ]
    },
    {
      "cell_type": "code",
      "metadata": {
        "id": "tMxH6PG2txVM"
      },
      "source": [
        ""
      ],
      "execution_count": null,
      "outputs": []
    },
    {
      "cell_type": "markdown",
      "metadata": {
        "id": "etvp9ZqwnAgO"
      },
      "source": [
        "Create an Excel file with three sheets showing: 1) the main data frame, 2) the rows with sentiment values above average, and 3) the rows with sentiment values below average."
      ]
    },
    {
      "cell_type": "code",
      "metadata": {
        "id": "WEWpKSlg8FQM"
      },
      "source": [
        ""
      ],
      "execution_count": null,
      "outputs": []
    },
    {
      "cell_type": "markdown",
      "metadata": {
        "id": "VSgh97KWxFKy"
      },
      "source": [
        "Are sentiment values in line with the ratings? Why?\n"
      ]
    },
    {
      "cell_type": "markdown",
      "metadata": {
        "id": "Z3yYCvIbxRIq"
      },
      "source": [
        "Answer: _____________________"
      ]
    },
    {
      "cell_type": "markdown",
      "metadata": {
        "id": "rWUxqdeg5tFw"
      },
      "source": [
        "# Download the .ipynb version of your notebook and submit it on D2L."
      ]
    }
  ]
}